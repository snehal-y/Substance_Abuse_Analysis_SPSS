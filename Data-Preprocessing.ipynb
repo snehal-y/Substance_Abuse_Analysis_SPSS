{
 "cells": [
  {
   "cell_type": "code",
   "execution_count": 1,
   "metadata": {},
   "outputs": [],
   "source": [
    "# Data Preprocessing\n",
    "\n",
    "# Importing the libraries\n",
    "    ##### for scientific computing\n",
    "import numpy as np \n",
    "    ##### for data manipulation\n",
    "import pandas as pd  \n",
    "    ##### for 2D plotting\n",
    "import matplotlib.pyplot as plt  \n",
    "    ##### for data visualization also provides a high-level interface for drawing attractive and informative statistical graphics\n",
    "import seaborn as sns  \n",
    "    ##### messages are typically issued in situations where it is useful to alert the user of some condition in a program, where that condition (normally) doesn’t warrant raising an exception and terminating the program\n",
    "import warnings  \n",
    "warnings.filterwarnings('ignore')"
   ]
  },
  {
   "cell_type": "code",
   "execution_count": 2,
   "metadata": {},
   "outputs": [
    {
     "data": {
      "text/html": [
       "<div>\n",
       "<style scoped>\n",
       "    .dataframe tbody tr th:only-of-type {\n",
       "        vertical-align: middle;\n",
       "    }\n",
       "\n",
       "    .dataframe tbody tr th {\n",
       "        vertical-align: top;\n",
       "    }\n",
       "\n",
       "    .dataframe thead th {\n",
       "        text-align: right;\n",
       "    }\n",
       "</style>\n",
       "<table border=\"1\" class=\"dataframe\">\n",
       "  <thead>\n",
       "    <tr style=\"text-align: right;\">\n",
       "      <th></th>\n",
       "      <th>V1</th>\n",
       "      <th>V3</th>\n",
       "      <th>V4</th>\n",
       "      <th>V5</th>\n",
       "      <th>V501</th>\n",
       "      <th>V507</th>\n",
       "      <th>V508</th>\n",
       "      <th>V509</th>\n",
       "      <th>V7101</th>\n",
       "      <th>V7112</th>\n",
       "      <th>...</th>\n",
       "      <th>V7206</th>\n",
       "      <th>V7207</th>\n",
       "      <th>V7208</th>\n",
       "      <th>V507 School region</th>\n",
       "      <th>V7532</th>\n",
       "      <th>V7533</th>\n",
       "      <th>V8527</th>\n",
       "      <th>V8528</th>\n",
       "      <th>V8529</th>\n",
       "      <th>V8531</th>\n",
       "    </tr>\n",
       "  </thead>\n",
       "  <tbody>\n",
       "    <tr>\n",
       "      <th>0</th>\n",
       "      <td>2017</td>\n",
       "      <td>FORM 4:(4)</td>\n",
       "      <td>54591</td>\n",
       "      <td>2.427542</td>\n",
       "      <td>8</td>\n",
       "      <td>NORTH CENTRAL:(2)</td>\n",
       "      <td>ELSE:(0)</td>\n",
       "      <td>NOT MSA:(0)</td>\n",
       "      <td>NEVER:(1)</td>\n",
       "      <td>0 OCCASIONS:(1)</td>\n",
       "      <td>...</td>\n",
       "      <td>MARKED:(1)</td>\n",
       "      <td>MARKED:(1)</td>\n",
       "      <td>MARKED:(1)</td>\n",
       "      <td>NORTH CENTRAL:(2)</td>\n",
       "      <td>NA: NOT ASKED ON THIS FORM:(-8)</td>\n",
       "      <td>NA: NOT ASKED ON THIS FORM:(-8)</td>\n",
       "      <td>NA: NOT ASKED ON THIS FORM:(-8)</td>\n",
       "      <td>NA: NOT ASKED ON THIS FORM:(-8)</td>\n",
       "      <td>NA: NOT ASKED ON THIS FORM:(-8)</td>\n",
       "      <td>NA: NOT ASKED ON THIS FORM:(-8)</td>\n",
       "    </tr>\n",
       "    <tr>\n",
       "      <th>1</th>\n",
       "      <td>2017</td>\n",
       "      <td>FORM 1:(1)</td>\n",
       "      <td>12278</td>\n",
       "      <td>0.594924</td>\n",
       "      <td>10</td>\n",
       "      <td>WEST:(4)</td>\n",
       "      <td>ELSE:(0)</td>\n",
       "      <td>MSA:(1)</td>\n",
       "      <td>NEVER:(1)</td>\n",
       "      <td>20-39X:(6)</td>\n",
       "      <td>...</td>\n",
       "      <td>MARKED:(1)</td>\n",
       "      <td>MARKED:(1)</td>\n",
       "      <td>NOT MARKED:(0)</td>\n",
       "      <td>WEST:(4)</td>\n",
       "      <td>NA: NOT ASKED ON THIS FORM:(-8)</td>\n",
       "      <td>NA: NOT ASKED ON THIS FORM:(-8)</td>\n",
       "      <td>NA: NOT ASKED ON THIS FORM:(-8)</td>\n",
       "      <td>NA: NOT ASKED ON THIS FORM:(-8)</td>\n",
       "      <td>NA: NOT ASKED ON THIS FORM:(-8)</td>\n",
       "      <td>NA: NOT ASKED ON THIS FORM:(-8)</td>\n",
       "    </tr>\n",
       "  </tbody>\n",
       "</table>\n",
       "<p>2 rows × 272 columns</p>\n",
       "</div>"
      ],
      "text/plain": [
       "     V1          V3     V4        V5 V501               V507      V508  \\\n",
       "0  2017  FORM 4:(4)  54591  2.427542    8  NORTH CENTRAL:(2)  ELSE:(0)   \n",
       "1  2017  FORM 1:(1)  12278  0.594924   10           WEST:(4)  ELSE:(0)   \n",
       "\n",
       "          V509      V7101            V7112               ...                 \\\n",
       "0  NOT MSA:(0)  NEVER:(1)  0 OCCASIONS:(1)               ...                  \n",
       "1      MSA:(1)  NEVER:(1)       20-39X:(6)               ...                  \n",
       "\n",
       "        V7206       V7207           V7208 V507 School region  \\\n",
       "0  MARKED:(1)  MARKED:(1)      MARKED:(1)  NORTH CENTRAL:(2)   \n",
       "1  MARKED:(1)  MARKED:(1)  NOT MARKED:(0)           WEST:(4)   \n",
       "\n",
       "                             V7532                            V7533  \\\n",
       "0  NA: NOT ASKED ON THIS FORM:(-8)  NA: NOT ASKED ON THIS FORM:(-8)   \n",
       "1  NA: NOT ASKED ON THIS FORM:(-8)  NA: NOT ASKED ON THIS FORM:(-8)   \n",
       "\n",
       "                             V8527                            V8528  \\\n",
       "0  NA: NOT ASKED ON THIS FORM:(-8)  NA: NOT ASKED ON THIS FORM:(-8)   \n",
       "1  NA: NOT ASKED ON THIS FORM:(-8)  NA: NOT ASKED ON THIS FORM:(-8)   \n",
       "\n",
       "                             V8529                            V8531  \n",
       "0  NA: NOT ASKED ON THIS FORM:(-8)  NA: NOT ASKED ON THIS FORM:(-8)  \n",
       "1  NA: NOT ASKED ON THIS FORM:(-8)  NA: NOT ASKED ON THIS FORM:(-8)  \n",
       "\n",
       "[2 rows x 272 columns]"
      ]
     },
     "execution_count": 2,
     "metadata": {},
     "output_type": "execute_result"
    }
   ],
   "source": [
    "# Importing the data-set\n",
    "\n",
    "dataset = pd.read_csv('Data.csv')\n",
    "dataset.head(2)"
   ]
  },
  {
   "cell_type": "code",
   "execution_count": 3,
   "metadata": {},
   "outputs": [
    {
     "data": {
      "text/plain": [
       "(182353, 272)"
      ]
     },
     "execution_count": 3,
     "metadata": {},
     "output_type": "execute_result"
    }
   ],
   "source": [
    "dataset.shape"
   ]
  },
  {
   "cell_type": "code",
   "execution_count": 4,
   "metadata": {},
   "outputs": [
    {
     "data": {
      "text/plain": [
       "RangeIndex(start=0, stop=182353, step=1)"
      ]
     },
     "execution_count": 4,
     "metadata": {},
     "output_type": "execute_result"
    }
   ],
   "source": [
    "dataset.index"
   ]
  },
  {
   "cell_type": "code",
   "execution_count": 5,
   "metadata": {},
   "outputs": [],
   "source": [
    "# Missing value Detection"
   ]
  },
  {
   "cell_type": "code",
   "execution_count": 9,
   "metadata": {},
   "outputs": [
    {
     "data": {
      "text/plain": [
       "V1                         0\n",
       "V3                         0\n",
       "V4                         0\n",
       "V5                         0\n",
       "V501                       0\n",
       "V507                       0\n",
       "V508                       0\n",
       "V509                       0\n",
       "V7101                      0\n",
       "V7112                      0\n",
       "V7115                      0\n",
       "V7118                      0\n",
       "V7127                      0\n",
       "V7097                      0\n",
       "V7133                      0\n",
       "V7139                      0\n",
       "V7142                      0\n",
       "V7121                      0\n",
       "V7124                      0\n",
       "V7164                      0\n",
       "V7145                      0\n",
       "V7152                      0\n",
       "V7155                      0\n",
       "V7158                      0\n",
       "V7161                      0\n",
       "V7601                      0\n",
       "V8480                      0\n",
       "V7648                 152172\n",
       "V7649                 152172\n",
       "V7652                 152172\n",
       "                       ...  \n",
       "V7312                      0\n",
       "V7313                      0\n",
       "V7378                      0\n",
       "V7379                      0\n",
       "V7380                      0\n",
       "V7319                      0\n",
       "V7325                      0\n",
       "V7317                      0\n",
       "V7318                      0\n",
       "V7320                      0\n",
       "V7321                      0\n",
       "V7322                      0\n",
       "V7323                      0\n",
       "V7381                      0\n",
       "V7326                      0\n",
       "V7214                      0\n",
       "V7239                      0\n",
       "V7202                      0\n",
       "V7215                      0\n",
       "V7216                      1\n",
       "V7206                      0\n",
       "V7207                      0\n",
       "V7208                      0\n",
       "V507 School region         0\n",
       "V7532                      0\n",
       "V7533                      0\n",
       "V8527                      0\n",
       "V8528                      0\n",
       "V8529                      0\n",
       "V8531                      0\n",
       "Length: 272, dtype: int64"
      ]
     },
     "execution_count": 9,
     "metadata": {},
     "output_type": "execute_result"
    }
   ],
   "source": [
    "dataset.isnull().sum()"
   ]
  },
  {
   "cell_type": "code",
   "execution_count": 10,
   "metadata": {},
   "outputs": [],
   "source": [
    "# Replace the MISSING:(-9) values from dataset"
   ]
  },
  {
   "cell_type": "code",
   "execution_count": 18,
   "metadata": {},
   "outputs": [],
   "source": [
    "new_df = dataset.replace('MISSING:(-9)',  np.nan)"
   ]
  },
  {
   "cell_type": "code",
   "execution_count": 20,
   "metadata": {},
   "outputs": [],
   "source": [
    "new_df = new_df.replace('NA: NOT ASKED ON THIS FORM:(-8)',  np.nan)"
   ]
  },
  {
   "cell_type": "code",
   "execution_count": 55,
   "metadata": {},
   "outputs": [
    {
     "data": {
      "text/plain": [
       "V1                         0\n",
       "V3                         0\n",
       "V4                         0\n",
       "V5                         0\n",
       "V501                       0\n",
       "V507                       0\n",
       "V508                       0\n",
       "V509                       0\n",
       "V7101                   6290\n",
       "V7112                   6657\n",
       "V7115                   6197\n",
       "V7118                   6353\n",
       "V7127                   6425\n",
       "V7097                  36740\n",
       "V7133                   6615\n",
       "V7139                  95365\n",
       "V7142                  45562\n",
       "V7121                   5469\n",
       "V7124                   5862\n",
       "V7164                  55476\n",
       "V7145                   6141\n",
       "V7152                  36601\n",
       "V7155                  36815\n",
       "V7158                   6411\n",
       "V7161                 153065\n",
       "V7601                 123753\n",
       "V8480                 132722\n",
       "V7648                 172956\n",
       "V7649                 172992\n",
       "V7652                 172997\n",
       "                       ...  \n",
       "V7312                   1996\n",
       "V7313                   1723\n",
       "V7378                   1651\n",
       "V7379                   1932\n",
       "V7380                   1701\n",
       "V7319                   1565\n",
       "V7325                   1400\n",
       "V7317                   1606\n",
       "V7318                   2194\n",
       "V7320                   2143\n",
       "V7321                   2062\n",
       "V7322                   3303\n",
       "V7323                   3302\n",
       "V7381                   1886\n",
       "V7326                   1350\n",
       "V7214                   6222\n",
       "V7239                  10807\n",
       "V7202                   7709\n",
       "V7215                   6225\n",
       "V7216                   6014\n",
       "V7206                  10626\n",
       "V7207                  10626\n",
       "V7208                  10626\n",
       "V507 School region         0\n",
       "V7532                 162088\n",
       "V7533                 162162\n",
       "V8527                 129887\n",
       "V8528                 130540\n",
       "V8529                 129978\n",
       "V8531                 130093\n",
       "Length: 272, dtype: int64"
      ]
     },
     "execution_count": 55,
     "metadata": {},
     "output_type": "execute_result"
    }
   ],
   "source": [
    "new_df.isnull().sum()"
   ]
  },
  {
   "cell_type": "code",
   "execution_count": 22,
   "metadata": {},
   "outputs": [
    {
     "data": {
      "text/plain": [
       "V7533    20191\n",
       "V8527    52466\n",
       "V8528    51813\n",
       "V8529    52375\n",
       "V8531    52260\n",
       "dtype: int64"
      ]
     },
     "execution_count": 22,
     "metadata": {},
     "output_type": "execute_result"
    }
   ],
   "source": [
    "new_df.count().tail()"
   ]
  },
  {
   "cell_type": "code",
   "execution_count": 23,
   "metadata": {},
   "outputs": [
    {
     "data": {
      "text/plain": [
       "182353"
      ]
     },
     "execution_count": 23,
     "metadata": {},
     "output_type": "execute_result"
    }
   ],
   "source": [
    "len(new_df)"
   ]
  },
  {
   "cell_type": "code",
   "execution_count": 51,
   "metadata": {},
   "outputs": [],
   "source": [
    "new_df_missing_50 = (new_df.isnull().mean()*100) < 50"
   ]
  },
  {
   "cell_type": "code",
   "execution_count": 52,
   "metadata": {
    "scrolled": true
   },
   "outputs": [
    {
     "data": {
      "text/plain": [
       "156"
      ]
     },
     "execution_count": 52,
     "metadata": {},
     "output_type": "execute_result"
    }
   ],
   "source": [
    "new_df_missing_50.sum()"
   ]
  },
  {
   "cell_type": "code",
   "execution_count": 53,
   "metadata": {},
   "outputs": [
    {
     "data": {
      "text/plain": [
       "count      272\n",
       "unique       2\n",
       "top       True\n",
       "freq       156\n",
       "dtype: object"
      ]
     },
     "execution_count": 53,
     "metadata": {},
     "output_type": "execute_result"
    }
   ],
   "source": [
    "new_df_missing_50.describe()"
   ]
  },
  {
   "cell_type": "code",
   "execution_count": 65,
   "metadata": {},
   "outputs": [
    {
     "data": {
      "text/plain": [
       "pandas.core.series.Series"
      ]
     },
     "execution_count": 65,
     "metadata": {},
     "output_type": "execute_result"
    }
   ],
   "source": [
    "type(new_df_missing_50)"
   ]
  },
  {
   "cell_type": "code",
   "execution_count": 69,
   "metadata": {},
   "outputs": [],
   "source": [
    "new_df = new_df.dropna(thresh=new_df.shape[0]*0.5, how = 'all', axis =1)"
   ]
  },
  {
   "cell_type": "code",
   "execution_count": 70,
   "metadata": {},
   "outputs": [
    {
     "data": {
      "text/plain": [
       "(182353, 156)"
      ]
     },
     "execution_count": 70,
     "metadata": {},
     "output_type": "execute_result"
    }
   ],
   "source": [
    "new_df.shape"
   ]
  },
  {
   "cell_type": "code",
   "execution_count": 71,
   "metadata": {},
   "outputs": [
    {
     "data": {
      "text/html": [
       "<div>\n",
       "<style scoped>\n",
       "    .dataframe tbody tr th:only-of-type {\n",
       "        vertical-align: middle;\n",
       "    }\n",
       "\n",
       "    .dataframe tbody tr th {\n",
       "        vertical-align: top;\n",
       "    }\n",
       "\n",
       "    .dataframe thead th {\n",
       "        text-align: right;\n",
       "    }\n",
       "</style>\n",
       "<table border=\"1\" class=\"dataframe\">\n",
       "  <thead>\n",
       "    <tr style=\"text-align: right;\">\n",
       "      <th></th>\n",
       "      <th>V1</th>\n",
       "      <th>V3</th>\n",
       "      <th>V4</th>\n",
       "      <th>V5</th>\n",
       "      <th>V501</th>\n",
       "      <th>V507</th>\n",
       "      <th>V508</th>\n",
       "      <th>V509</th>\n",
       "      <th>V7101</th>\n",
       "      <th>V7112</th>\n",
       "      <th>...</th>\n",
       "      <th>V7326</th>\n",
       "      <th>V7214</th>\n",
       "      <th>V7239</th>\n",
       "      <th>V7202</th>\n",
       "      <th>V7215</th>\n",
       "      <th>V7216</th>\n",
       "      <th>V7206</th>\n",
       "      <th>V7207</th>\n",
       "      <th>V7208</th>\n",
       "      <th>V507 School region</th>\n",
       "    </tr>\n",
       "  </thead>\n",
       "  <tbody>\n",
       "    <tr>\n",
       "      <th>0</th>\n",
       "      <td>2017</td>\n",
       "      <td>FORM 4:(4)</td>\n",
       "      <td>54591</td>\n",
       "      <td>2.427542</td>\n",
       "      <td>8</td>\n",
       "      <td>NORTH CENTRAL:(2)</td>\n",
       "      <td>ELSE:(0)</td>\n",
       "      <td>NOT MSA:(0)</td>\n",
       "      <td>NEVER:(1)</td>\n",
       "      <td>0 OCCASIONS:(1)</td>\n",
       "      <td>...</td>\n",
       "      <td>5-6 HRS:(5)</td>\n",
       "      <td>LT 1 HR:(2)</td>\n",
       "      <td>TWO:(3)</td>\n",
       "      <td>FEMALE:(2)</td>\n",
       "      <td>CLG GRAD:(5)</td>\n",
       "      <td>CLG GRAD:(5)</td>\n",
       "      <td>MARKED:(1)</td>\n",
       "      <td>MARKED:(1)</td>\n",
       "      <td>MARKED:(1)</td>\n",
       "      <td>NORTH CENTRAL:(2)</td>\n",
       "    </tr>\n",
       "    <tr>\n",
       "      <th>1</th>\n",
       "      <td>2017</td>\n",
       "      <td>FORM 1:(1)</td>\n",
       "      <td>12278</td>\n",
       "      <td>0.594924</td>\n",
       "      <td>10</td>\n",
       "      <td>WEST:(4)</td>\n",
       "      <td>ELSE:(0)</td>\n",
       "      <td>MSA:(1)</td>\n",
       "      <td>NEVER:(1)</td>\n",
       "      <td>20-39X:(6)</td>\n",
       "      <td>...</td>\n",
       "      <td>5-6 HRS:(5)</td>\n",
       "      <td>1-2 HRS:(3)</td>\n",
       "      <td>THREE:(4)</td>\n",
       "      <td>MALE:(1)</td>\n",
       "      <td>CLG GRAD:(5)</td>\n",
       "      <td>GRAD SCH:(6)</td>\n",
       "      <td>MARKED:(1)</td>\n",
       "      <td>MARKED:(1)</td>\n",
       "      <td>NOT MARKED:(0)</td>\n",
       "      <td>WEST:(4)</td>\n",
       "    </tr>\n",
       "  </tbody>\n",
       "</table>\n",
       "<p>2 rows × 156 columns</p>\n",
       "</div>"
      ],
      "text/plain": [
       "     V1          V3     V4        V5 V501               V507      V508  \\\n",
       "0  2017  FORM 4:(4)  54591  2.427542    8  NORTH CENTRAL:(2)  ELSE:(0)   \n",
       "1  2017  FORM 1:(1)  12278  0.594924   10           WEST:(4)  ELSE:(0)   \n",
       "\n",
       "          V509      V7101            V7112        ...                V7326  \\\n",
       "0  NOT MSA:(0)  NEVER:(1)  0 OCCASIONS:(1)        ...          5-6 HRS:(5)   \n",
       "1      MSA:(1)  NEVER:(1)       20-39X:(6)        ...          5-6 HRS:(5)   \n",
       "\n",
       "         V7214      V7239       V7202         V7215         V7216       V7206  \\\n",
       "0  LT 1 HR:(2)    TWO:(3)  FEMALE:(2)  CLG GRAD:(5)  CLG GRAD:(5)  MARKED:(1)   \n",
       "1  1-2 HRS:(3)  THREE:(4)    MALE:(1)  CLG GRAD:(5)  GRAD SCH:(6)  MARKED:(1)   \n",
       "\n",
       "        V7207           V7208 V507 School region  \n",
       "0  MARKED:(1)      MARKED:(1)  NORTH CENTRAL:(2)  \n",
       "1  MARKED:(1)  NOT MARKED:(0)           WEST:(4)  \n",
       "\n",
       "[2 rows x 156 columns]"
      ]
     },
     "execution_count": 71,
     "metadata": {},
     "output_type": "execute_result"
    }
   ],
   "source": [
    "new_df.head(2)"
   ]
  },
  {
   "cell_type": "code",
   "execution_count": 72,
   "metadata": {},
   "outputs": [],
   "source": [
    "new_df.to_csv('CleanData.csv', sep='\\t')"
   ]
  },
  {
   "cell_type": "code",
   "execution_count": null,
   "metadata": {},
   "outputs": [],
   "source": []
  }
 ],
 "metadata": {
  "kernelspec": {
   "display_name": "Python 3",
   "language": "python",
   "name": "python3"
  },
  "language_info": {
   "codemirror_mode": {
    "name": "ipython",
    "version": 3
   },
   "file_extension": ".py",
   "mimetype": "text/x-python",
   "name": "python",
   "nbconvert_exporter": "python",
   "pygments_lexer": "ipython3",
   "version": "3.6.5"
  }
 },
 "nbformat": 4,
 "nbformat_minor": 2
}
